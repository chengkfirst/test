{
 "cells": [
  {
   "cell_type": "code",
   "execution_count": 3,
   "id": "39879b33",
   "metadata": {},
   "outputs": [],
   "source": [
    "import pyautogui\n",
    "import time\n",
    "screenshot = pyautogui.screenshot()\n",
    "screenshot.save('screenshot.png')"
   ]
  },
  {
   "cell_type": "code",
   "execution_count": 23,
   "id": "dc909685",
   "metadata": {},
   "outputs": [
    {
     "name": "stdout",
     "output_type": "stream",
     "text": [
      "Point(x=771, y=187)\n"
     ]
    }
   ],
   "source": [
    "current_position = pyautogui.position()\n",
    "print(current_position)\n"
   ]
  },
  {
   "cell_type": "code",
   "execution_count": 24,
   "id": "af3d7f01",
   "metadata": {},
   "outputs": [],
   "source": [
    "chat_position=pyautogui.position()"
   ]
  },
  {
   "cell_type": "code",
   "execution_count": 25,
   "id": "a654f2a6",
   "metadata": {},
   "outputs": [],
   "source": [
    "import pyautogui\n",
    "import time\n",
    "\n",
    "# 你需要替换这些坐标为你的微信界面上的相应元素\n",
    "contact_position = (current_position)  # 联系人的屏幕位置\n",
    "#chat_position = (x, y)  # 聊天输入框的屏幕位置\n",
    "\n",
    "# 模拟点击联系人\n",
    "pyautogui.click(contact_position)\n",
    "time.sleep(2)  # 等待微信响应\n",
    "\n",
    "# 输入并发送消息\n",
    "for i in range(0,10):\n",
    "    pyautogui.click(chat_position)\n",
    "    pyautogui.write('wake up wake up', interval=0.1)\n",
    "    pyautogui.press('enter')"
   ]
  },
  {
   "cell_type": "code",
   "execution_count": null,
   "id": "6e8d5f45",
   "metadata": {},
   "outputs": [],
   "source": []
  },
  {
   "cell_type": "code",
   "execution_count": null,
   "id": "f8e585ab",
   "metadata": {},
   "outputs": [],
   "source": []
  }
 ],
 "metadata": {
  "kernelspec": {
   "display_name": "Python 3 (ipykernel)",
   "language": "python",
   "name": "python3"
  },
  "language_info": {
   "codemirror_mode": {
    "name": "ipython",
    "version": 3
   },
   "file_extension": ".py",
   "mimetype": "text/x-python",
   "name": "python",
   "nbconvert_exporter": "python",
   "pygments_lexer": "ipython3",
   "version": "3.9.12"
  }
 },
 "nbformat": 4,
 "nbformat_minor": 5
}
